{
  "nbformat": 4,
  "nbformat_minor": 0,
  "metadata": {
    "colab": {
      "name": "Untitled10.ipynb",
      "provenance": [],
      "collapsed_sections": [],
      "mount_file_id": "1BpgJipBLo66Ziuv6190STYB1FU0JPlO_",
      "authorship_tag": "ABX9TyMKbRuBH3tnJUHsxOj8ICO9",
      "include_colab_link": true
    },
    "kernelspec": {
      "name": "python3",
      "display_name": "Python 3"
    },
    "language_info": {
      "name": "python"
    },
    "accelerator": "GPU"
  },
  "cells": [
    {
      "cell_type": "markdown",
      "metadata": {
        "id": "view-in-github",
        "colab_type": "text"
      },
      "source": [
        "<a href=\"https://colab.research.google.com/github/Yomex139/Rock_Paper_Scissors-project/blob/main/Rock_Paper_Scissors.ipynb\" target=\"_parent\"><img src=\"https://colab.research.google.com/assets/colab-badge.svg\" alt=\"Open In Colab\"/></a>"
      ]
    },
    {
      "cell_type": "code",
      "metadata": {
        "id": "GbXI-Lu2M8zr"
      },
      "source": [
        "import tensorflow as tf\n",
        "import tensorflow_datasets as tfds\n",
        "import matplotlib.pyplot as plt\n"
      ],
      "execution_count": 34,
      "outputs": []
    },
    {
      "cell_type": "code",
      "metadata": {
        "id": "DaZ2PJrKNLxZ"
      },
      "source": [
        "(test,train),ds_info = tfds.load(name='rock_paper_scissors',\n",
        "                    shuffle_files=True,\n",
        "                    download=True,\n",
        "                    as_supervised=True,\n",
        "                    with_info=True,\n",
        "                    split=['test','train'])"
      ],
      "execution_count": 35,
      "outputs": []
    },
    {
      "cell_type": "code",
      "metadata": {
        "colab": {
          "base_uri": "https://localhost:8080/"
        },
        "id": "Te6LlrBLNtss",
        "outputId": "cff50bbf-17de-4198-e13c-d5d14a58ce97"
      },
      "source": [
        "ds_info.features"
      ],
      "execution_count": 36,
      "outputs": [
        {
          "output_type": "execute_result",
          "data": {
            "text/plain": [
              "FeaturesDict({\n",
              "    'image': Image(shape=(300, 300, 3), dtype=tf.uint8),\n",
              "    'label': ClassLabel(shape=(), dtype=tf.int64, num_classes=3),\n",
              "})"
            ]
          },
          "metadata": {},
          "execution_count": 36
        }
      ]
    },
    {
      "cell_type": "code",
      "metadata": {
        "colab": {
          "base_uri": "https://localhost:8080/"
        },
        "id": "U66LQeU58fb0",
        "outputId": "c20e3ba0-f6fe-45f2-ae5e-3dd4808b44d5"
      },
      "source": [
        "class_names = ds_info.features['label'].names\n",
        "class_names"
      ],
      "execution_count": 37,
      "outputs": [
        {
          "output_type": "execute_result",
          "data": {
            "text/plain": [
              "['rock', 'paper', 'scissors']"
            ]
          },
          "metadata": {},
          "execution_count": 37
        }
      ]
    },
    {
      "cell_type": "code",
      "metadata": {
        "id": "M7fX8EbCPMpg",
        "colab": {
          "base_uri": "https://localhost:8080/"
        },
        "outputId": "d78b959a-8f99-4412-8d66-5a5f19cc2b00"
      },
      "source": [
        "one_train_sample = train.take(1)\n",
        "one_train_sample"
      ],
      "execution_count": 38,
      "outputs": [
        {
          "output_type": "execute_result",
          "data": {
            "text/plain": [
              "<TakeDataset shapes: ((300, 300, 3), ()), types: (tf.uint8, tf.int64)>"
            ]
          },
          "metadata": {},
          "execution_count": 38
        }
      ]
    },
    {
      "cell_type": "code",
      "metadata": {
        "colab": {
          "base_uri": "https://localhost:8080/"
        },
        "id": "qd26_-OexR97",
        "outputId": "30b4e61a-5c83-4d41-fd37-c5490576967c"
      },
      "source": [
        "for image,label in one_train_sample:\n",
        "  print(f\"\"\"\n",
        "  Image shape: {image.shape}\n",
        "  Image dtype: {image.dtype}\n",
        "  Target class from {ds_info.name} (tensor form): {label}\n",
        "  Class name (str form): {class_names[label.numpy()]}\n",
        "        \"\"\")"
      ],
      "execution_count": 39,
      "outputs": [
        {
          "output_type": "stream",
          "name": "stdout",
          "text": [
            "\n",
            "  Image shape: (300, 300, 3)\n",
            "  Image dtype: <dtype: 'uint8'>\n",
            "  Target class from rock_paper_scissors (tensor form): 2\n",
            "  Class name (str form): scissors\n",
            "        \n"
          ]
        }
      ]
    },
    {
      "cell_type": "code",
      "metadata": {
        "colab": {
          "base_uri": "https://localhost:8080/",
          "height": 264
        },
        "id": "tGvQrXWU2iMX",
        "outputId": "6cc9780f-9803-4ea9-ce8d-401613e294d5"
      },
      "source": [
        "plt.imshow(image)\n",
        "plt.title(class_names[label.numpy()])\n",
        "plt.axis('off');"
      ],
      "execution_count": 40,
      "outputs": [
        {
          "output_type": "display_data",
          "data": {
            "image/png": "[encoded data removed]",
            "text/plain": [
              "<Figure size 432x288 with 1 Axes>"
            ]
          },
          "metadata": {
            "needs_background": "light"
          }
        }
      ]
    },
    {
      "cell_type": "code",
      "metadata": {
        "colab": {
          "base_uri": "https://localhost:8080/"
        },
        "id": "_vmJGVE9Csfg",
        "outputId": "64aae478-362b-406a-e030-fd39a5f2974a"
      },
      "source": [
        "#download helper functions\n",
        "!wget https://github.com/Yomex139/Food-Vision/raw/main/Helper_Function.py"
      ],
      "execution_count": 41,
      "outputs": [
        {
          "output_type": "stream",
          "name": "stdout",
          "text": [
            "--2021-10-19 23:29:36--  https://github.com/Yomex139/Food-Vision/raw/main/Helper_Function.py\n",
            "Resolving github.com (github.com)... 140.82.112.3\n",
            "Connecting to github.com (github.com)|140.82.112.3|:443... connected.\n",
            "HTTP request sent, awaiting response... 302 Found\n",
            "Location: https://raw.githubusercontent.com/Yomex139/Food-Vision/main/Helper_Function.py [following]\n",
            "--2021-10-19 23:29:36--  https://raw.githubusercontent.com/Yomex139/Food-Vision/main/Helper_Function.py\n",
            "Resolving raw.githubusercontent.com (raw.githubusercontent.com)... 185.199.108.133, 185.199.109.133, 185.199.110.133, ...\n",
            "Connecting to raw.githubusercontent.com (raw.githubusercontent.com)|185.199.108.133|:443... connected.\n",
            "HTTP request sent, awaiting response... 200 OK\n",
            "Length: 11521 (11K) [text/plain]\n",
            "Saving to: ‘Helper_Function.py.1’\n",
            "\n",
            "Helper_Function.py. 100%[===================>]  11.25K  --.-KB/s    in 0s      \n",
            "\n",
            "2021-10-19 23:29:36 (51.8 MB/s) - ‘Helper_Function.py.1’ saved [11521/11521]\n",
            "\n"
          ]
        }
      ]
    },
    {
      "cell_type": "code",
      "metadata": {
        "id": "UmGDe_S_JTwI"
      },
      "source": [
        "from Helper_Function import load_and_prep_image,walk_through_dir,bef_train_visual,visualize_after,compare_historys,confusion_matrix,create_tensorboard_callback,plot_loss_curves"
      ],
      "execution_count": 42,
      "outputs": []
    },
    {
      "cell_type": "code",
      "metadata": {
        "id": "xtYBD6ExYLni"
      },
      "source": [
        "#image\n",
        "#whats needed to be done\n",
        "#read in the data\n",
        "#resize image tensors\n",
        "#turning image tensors from uint8 to float32 and normalize(depends on model to be used)\n",
        "#also turning to batches using tf.data"
      ],
      "execution_count": 43,
      "outputs": []
    },
    {
      "cell_type": "code",
      "metadata": {
        "colab": {
          "base_uri": "https://localhost:8080/"
        },
        "id": "rV4CicB0ZUXB",
        "outputId": "ef389c1d-d6a5-4b2b-9798-d34be637e54e"
      },
      "source": [
        "tf.reduce_min(image).numpy(),tf.reduce_max(image).numpy()"
      ],
      "execution_count": 44,
      "outputs": [
        {
          "output_type": "execute_result",
          "data": {
            "text/plain": [
              "(25, 255)"
            ]
          },
          "metadata": {},
          "execution_count": 44
        }
      ]
    },
    {
      "cell_type": "code",
      "metadata": {
        "id": "8WplfjJTbieh"
      },
      "source": [
        "#preprocess image(resizing and converting to float)\n",
        "def preprocessed(image,label):\n",
        "  '''\n",
        "  accept an input image and output preprocessed image\n",
        "  '''\n",
        "  image = tf.image.resize(image,size=[224,224])\n",
        "  image = tf.image.convert_image_dtype(image,dtype=tf.float32)\n",
        "  #image = tf.cast(image,dtype=tf.float32)\n",
        "  return image,label"
      ],
      "execution_count": 45,
      "outputs": []
    },
    {
      "cell_type": "code",
      "metadata": {
        "colab": {
          "base_uri": "https://localhost:8080/",
          "height": 366
        },
        "id": "PsN_VLuJsdER",
        "outputId": "56d0ad78-049b-4d2e-ab3d-5c62f10246cb"
      },
      "source": [
        "print(f'image size before preprocessing is:\\n {image.shape}\\n')\n",
        "img = preprocessed(image,label)[0]\n",
        "plt.imshow(img/255)\n",
        "plt.title(class_names[label])\n",
        "print(f'image size after preprocessing is:\\n {img.shape}')"
      ],
      "execution_count": 46,
      "outputs": [
        {
          "output_type": "stream",
          "name": "stdout",
          "text": [
            "image size before preprocessing is:\n",
            " (300, 300, 3)\n",
            "\n",
            "image size after preprocessing is:\n",
            " (224, 224, 3)\n"
          ]
        },
        {
          "output_type": "display_data",
          "data": {
            "image/png": "[encoded data removed]",
            "text/plain": [
              "<Figure size 432x288 with 1 Axes>"
            ]
          },
          "metadata": {
            "needs_background": "light"
          }
        }
      ]
    },
    {
      "cell_type": "code",
      "metadata": {
        "id": "m3K98g2_sjEz"
      },
      "source": [
        "#map preprocess function to train data\n",
        "train_data = train.map(map_func=preprocessed,num_parallel_calls=tf.data.AUTOTUNE)\n",
        "#batch and ...... dataset\n",
        "train_data = train_data.shuffle(buffer_size=1000).batch(batch_size=32).prefetch(buffer_size=tf.data.AUTOTUNE)\n",
        "#map preprocess function to train data\n",
        "test_data = test.map(map_func=preprocessed,num_parallel_calls=tf.data.AUTOTUNE)\n",
        "#batch and ...... dataset\n",
        "test_data = test_data.batch(batch_size=32).prefetch(buffer_size=tf.data.AUTOTUNE)"
      ],
      "execution_count": 47,
      "outputs": []
    },
    {
      "cell_type": "code",
      "metadata": {
        "colab": {
          "base_uri": "https://localhost:8080/"
        },
        "id": "DumPa8-9veRC",
        "outputId": "7fd55803-2535-4e91-973a-28911c5c79e8"
      },
      "source": [
        "train_data,test_data"
      ],
      "execution_count": 48,
      "outputs": [
        {
          "output_type": "execute_result",
          "data": {
            "text/plain": [
              "(<PrefetchDataset shapes: ((None, 224, 224, 3), (None,)), types: (tf.float32, tf.int64)>,\n",
              " <PrefetchDataset shapes: ((None, 224, 224, 3), (None,)), types: (tf.float32, tf.int64)>)"
            ]
          },
          "metadata": {},
          "execution_count": 48
        }
      ]
    },
    {
      "cell_type": "code",
      "metadata": {
        "id": "3e72JYkW0sS8"
      },
      "source": [
        "#create model callbacks(modelcheckpoint,earlycallbacks and tensorboard callbacks)\n",
        "rock_paper_scissors_earlystop = tf.keras.callbacks.EarlyStopping(monitor='val_accuracy',patience=3)\n",
        "model_checkpoint_rps = tf.keras.callbacks.ModelCheckpoint(filepath='RPS_Checkpoint/cp.ckpt',\n",
        "                                                          monitor='val_accuracy',\n",
        "                                                          save_best_only=True,\n",
        "                                                          save_weights_only=True)"
      ],
      "execution_count": 49,
      "outputs": []
    },
    {
      "cell_type": "code",
      "metadata": {
        "id": "EmNv7auA5as8"
      },
      "source": [
        "#setup mix_precision\n",
        "from tensorflow.keras import mixed_precision\n",
        "mixed_precision.set_global_policy('float16')"
      ],
      "execution_count": 50,
      "outputs": []
    },
    {
      "cell_type": "code",
      "metadata": {
        "colab": {
          "base_uri": "https://localhost:8080/"
        },
        "id": "RQsCYN-E7XNJ",
        "outputId": "33a13624-fd40-41a1-d868-747c2cec56df"
      },
      "source": [
        "#cross ckecking\n",
        "mixed_precision.global_policy()"
      ],
      "execution_count": 51,
      "outputs": [
        {
          "output_type": "execute_result",
          "data": {
            "text/plain": [
              "<Policy \"float16\">"
            ]
          },
          "metadata": {},
          "execution_count": 51
        }
      ]
    },
    {
      "cell_type": "code",
      "metadata": {
        "id": "g2-M5gMc8fFG"
      },
      "source": [
        "data_augmentaton = tf.keras.models.Sequential([\n",
        "            tf.keras.layers.experimental.preprocessing.RandomZoom(0.2),\n",
        "            tf.keras.layers.experimental.preprocessing.RandomHeight(0.2),\n",
        "            tf.keras.layers.experimental.preprocessing.RandomWidth(.15),\n",
        "            tf.keras.layers.experimental.preprocessing.RandomContrast(.4)\n",
        "],name='augmentation_layer')\n",
        "#setup base model\n",
        "Base_model = tf.keras.applications.EfficientNetB0(include_top=False)\n",
        "#set traininable to false\n",
        "Base_model.trainable = False\n",
        "#setup input\n",
        "input = tf.keras.layers.Input(shape=(224,224,3),name='Input_ Layer')\n",
        "#data_augmentation layer\n",
        "x = data_augmentaton(input)\n",
        "#map input to base model\n",
        "x = Base_model(x,training=False)\n",
        "#global average pooling\n",
        "x = tf.keras.layers.GlobalAveragePooling2D(name='GlobalAveragePooling_Layer')(x)\n",
        "#output layer\n",
        "x = tf.keras.layers.Dense(3,name='Dense_Layer')(x)\n",
        "#output activation layer\n",
        "output = tf.keras.layers.Activation(activation='softmax',dtype=tf.float32,name='Activation/Output_Layer')(x)\n",
        "#build model\n",
        "model_1 = tf.keras.Model(input,output)"
      ],
      "execution_count": 52,
      "outputs": []
    },
    {
      "cell_type": "code",
      "metadata": {
        "id": "9oiXsJsW_aRd"
      },
      "source": [
        "#compile the model\n",
        "model_1.compile(loss=tf.keras.losses.sparse_categorical_crossentropy,\n",
        "                optimizer=tf.keras.optimizers.Adam(),\n",
        "                metrics=['accuracy'])"
      ],
      "execution_count": 53,
      "outputs": []
    },
    {
      "cell_type": "code",
      "metadata": {
        "colab": {
          "base_uri": "https://localhost:8080/"
        },
        "id": "jWr24ew6BSQg",
        "outputId": "76f4f011-0967-435d-93fb-791c23505f86"
      },
      "source": [
        "#fit the model\n",
        "history_1 = model_1.fit(train_data,\n",
        "            epochs=50,\n",
        "            validation_data=test_data,\n",
        "            steps_per_epoch=len(train_data),\n",
        "            validation_steps=int(.3*len(test_data)),\n",
        "            callbacks=[rock_paper_scissors_earlystop,model_checkpoint_rps,create_tensorboard_callback(dir_name='RPS_with EfficientnetB0',\n",
        "                                                                                                      experiment_name='rock_paper_scissors')])"
      ],
      "execution_count": 54,
      "outputs": [
        {
          "output_type": "stream",
          "name": "stdout",
          "text": [
            "Saving TensorBoard log files to: RPS_with EfficientnetB0/rock_paper_scissors/20211019-232940\n",
            "Epoch 1/50\n"
          ]
        },
        {
          "output_type": "stream",
          "name": "stderr",
          "text": [
            "/usr/local/lib/python3.7/dist-packages/keras/utils/generic_utils.py:497: CustomMaskWarning: Custom mask layers require a config and must override get_config. When loading, the custom mask layer must be passed to the custom_objects argument.\n",
            "  category=CustomMaskWarning)\n"
          ]
        },
        {
          "output_type": "stream",
          "name": "stdout",
          "text": [
            "79/79 [==============================] - 55s 584ms/step - loss: 4.1836 - accuracy: 0.4729 - val_loss: 1.1758 - val_accuracy: 0.4583\n",
            "Epoch 2/50\n",
            "79/79 [==============================] - 38s 455ms/step - loss: 0.5645 - accuracy: 0.7998 - val_loss: 0.5391 - val_accuracy: 0.7603\n",
            "Epoch 3/50\n",
            "79/79 [==============================] - 36s 404ms/step - loss: 0.3145 - accuracy: 0.8950 - val_loss: 0.3201 - val_accuracy: 0.9165\n",
            "Epoch 4/50\n",
            "79/79 [==============================] - 33s 384ms/step - loss: 0.2052 - accuracy: 0.9365 - val_loss: 0.2399 - val_accuracy: 0.9375\n",
            "Epoch 5/50\n",
            "79/79 [==============================] - 34s 398ms/step - loss: 0.1549 - accuracy: 0.9570 - val_loss: 0.2167 - val_accuracy: 0.9272\n",
            "Epoch 6/50\n",
            "79/79 [==============================] - 34s 391ms/step - loss: 0.1215 - accuracy: 0.9668 - val_loss: 0.2109 - val_accuracy: 0.9272\n",
            "Epoch 7/50\n",
            "79/79 [==============================] - 36s 419ms/step - loss: 0.1010 - accuracy: 0.9795 - val_loss: 0.1730 - val_accuracy: 0.9585\n",
            "Epoch 8/50\n",
            "79/79 [==============================] - 34s 406ms/step - loss: 0.0848 - accuracy: 0.9795 - val_loss: 0.1388 - val_accuracy: 0.9688\n",
            "Epoch 9/50\n",
            "79/79 [==============================] - 27s 300ms/step - loss: 0.0759 - accuracy: 0.9839 - val_loss: 0.1713 - val_accuracy: 0.9272\n",
            "Epoch 10/50\n",
            "79/79 [==============================] - 31s 357ms/step - loss: 0.0635 - accuracy: 0.9863 - val_loss: 0.1771 - val_accuracy: 0.9272\n",
            "Epoch 11/50\n",
            "79/79 [==============================] - 28s 325ms/step - loss: 0.0542 - accuracy: 0.9922 - val_loss: 0.1562 - val_accuracy: 0.9272\n"
          ]
        }
      ]
    },
    {
      "cell_type": "code",
      "metadata": {
        "colab": {
          "base_uri": "https://localhost:8080/"
        },
        "id": "BeHQOVc7RF3X",
        "outputId": "ba58de08-7967-4953-a318-999f9e460ad0"
      },
      "source": [
        "loss, accuracy = model_1.evaluate(test_data)\n",
        "accuracy"
      ],
      "execution_count": 55,
      "outputs": [
        {
          "output_type": "stream",
          "name": "stdout",
          "text": [
            "12/12 [==============================] - 1s 107ms/step - loss: 0.2211 - accuracy: 0.8711\n"
          ]
        },
        {
          "output_type": "execute_result",
          "data": {
            "text/plain": [
              "0.87109375"
            ]
          },
          "metadata": {},
          "execution_count": 55
        }
      ]
    },
    {
      "cell_type": "code",
      "metadata": {
        "colab": {
          "base_uri": "https://localhost:8080/"
        },
        "id": "vjSV6EhrDYrs",
        "outputId": "76c3d800-5265-46ab-f170-2e82be8e91eb"
      },
      "source": [
        "model_1.summary()"
      ],
      "execution_count": 56,
      "outputs": [
        {
          "output_type": "stream",
          "name": "stdout",
          "text": [
            "Model: \"model_1\"\n",
            "_________________________________________________________________\n",
            "Layer (type)                 Output Shape              Param #   \n",
            "=================================================================\n",
            "Input_ Layer (InputLayer)    [(None, 224, 224, 3)]     0         \n",
            "_________________________________________________________________\n",
            "augmentation_layer (Sequenti (None, None, None, 3)     0         \n",
            "_________________________________________________________________\n",
            "efficientnetb0 (Functional)  (None, None, None, 1280)  4049571   \n",
            "_________________________________________________________________\n",
            "GlobalAveragePooling_Layer ( (None, 1280)              0         \n",
            "_________________________________________________________________\n",
            "Dense_Layer (Dense)          (None, 3)                 3843      \n",
            "_________________________________________________________________\n",
            "Activation/Output_Layer (Act (None, 3)                 0         \n",
            "=================================================================\n",
            "Total params: 4,053,414\n",
            "Trainable params: 3,843\n",
            "Non-trainable params: 4,049,571\n",
            "_________________________________________________________________\n"
          ]
        }
      ]
    },
    {
      "cell_type": "code",
      "metadata": {
        "colab": {
          "base_uri": "https://localhost:8080/"
        },
        "id": "9cCy0JpdMh88",
        "outputId": "8fb014d3-c770-4f80-bd38-481372fab29b"
      },
      "source": [
        "for layer_num,layers in enumerate(model_1.layers):\n",
        "  print(layer_num,layers.name,layers.trainable)"
      ],
      "execution_count": 57,
      "outputs": [
        {
          "output_type": "stream",
          "name": "stdout",
          "text": [
            "0 Input_ Layer True\n",
            "1 augmentation_layer True\n",
            "2 efficientnetb0 False\n",
            "3 GlobalAveragePooling_Layer True\n",
            "4 Dense_Layer True\n",
            "5 Activation/Output_Layer True\n"
          ]
        }
      ]
    },
    {
      "cell_type": "code",
      "metadata": {
        "colab": {
          "base_uri": "https://localhost:8080/"
        },
        "id": "7JwH2hMvOLyx",
        "outputId": "1dd96e8d-4b46-4810-8743-cdd86739307a"
      },
      "source": [
        "for layer_num,layers in enumerate(Base_model.layers):\n",
        "  print(layer_num,layers.name,layers.trainable)"
      ],
      "execution_count": 58,
      "outputs": [
        {
          "output_type": "stream",
          "name": "stdout",
          "text": [
            "0 input_2 False\n",
            "1 rescaling_1 False\n",
            "2 normalization_1 False\n",
            "3 stem_conv_pad False\n",
            "4 stem_conv False\n",
            "5 stem_bn False\n",
            "6 stem_activation False\n",
            "7 block1a_dwconv False\n",
            "8 block1a_bn False\n",
            "9 block1a_activation False\n",
            "10 block1a_se_squeeze False\n",
            "11 block1a_se_reshape False\n",
            "12 block1a_se_reduce False\n",
            "13 block1a_se_expand False\n",
            "14 block1a_se_excite False\n",
            "15 block1a_project_conv False\n",
            "16 block1a_project_bn False\n",
            "17 block2a_expand_conv False\n",
            "18 block2a_expand_bn False\n",
            "19 block2a_expand_activation False\n",
            "20 block2a_dwconv_pad False\n",
            "21 block2a_dwconv False\n",
            "22 block2a_bn False\n",
            "23 block2a_activation False\n",
            "24 block2a_se_squeeze False\n",
            "25 block2a_se_reshape False\n",
            "26 block2a_se_reduce False\n",
            "27 block2a_se_expand False\n",
            "28 block2a_se_excite False\n",
            "29 block2a_project_conv False\n",
            "30 block2a_project_bn False\n",
            "31 block2b_expand_conv False\n",
            "32 block2b_expand_bn False\n",
            "33 block2b_expand_activation False\n",
            "34 block2b_dwconv False\n",
            "35 block2b_bn False\n",
            "36 block2b_activation False\n",
            "37 block2b_se_squeeze False\n",
            "38 block2b_se_reshape False\n",
            "39 block2b_se_reduce False\n",
            "40 block2b_se_expand False\n",
            "41 block2b_se_excite False\n",
            "42 block2b_project_conv False\n",
            "43 block2b_project_bn False\n",
            "44 block2b_drop False\n",
            "45 block2b_add False\n",
            "46 block3a_expand_conv False\n",
            "47 block3a_expand_bn False\n",
            "48 block3a_expand_activation False\n",
            "49 block3a_dwconv_pad False\n",
            "50 block3a_dwconv False\n",
            "51 block3a_bn False\n",
            "52 block3a_activation False\n",
            "53 block3a_se_squeeze False\n",
            "54 block3a_se_reshape False\n",
            "55 block3a_se_reduce False\n",
            "56 block3a_se_expand False\n",
            "57 block3a_se_excite False\n",
            "58 block3a_project_conv False\n",
            "59 block3a_project_bn False\n",
            "60 block3b_expand_conv False\n",
            "61 block3b_expand_bn False\n",
            "62 block3b_expand_activation False\n",
            "63 block3b_dwconv False\n",
            "64 block3b_bn False\n",
            "65 block3b_activation False\n",
            "66 block3b_se_squeeze False\n",
            "67 block3b_se_reshape False\n",
            "68 block3b_se_reduce False\n",
            "69 block3b_se_expand False\n",
            "70 block3b_se_excite False\n",
            "71 block3b_project_conv False\n",
            "72 block3b_project_bn False\n",
            "73 block3b_drop False\n",
            "74 block3b_add False\n",
            "75 block4a_expand_conv False\n",
            "76 block4a_expand_bn False\n",
            "77 block4a_expand_activation False\n",
            "78 block4a_dwconv_pad False\n",
            "79 block4a_dwconv False\n",
            "80 block4a_bn False\n",
            "81 block4a_activation False\n",
            "82 block4a_se_squeeze False\n",
            "83 block4a_se_reshape False\n",
            "84 block4a_se_reduce False\n",
            "85 block4a_se_expand False\n",
            "86 block4a_se_excite False\n",
            "87 block4a_project_conv False\n",
            "88 block4a_project_bn False\n",
            "89 block4b_expand_conv False\n",
            "90 block4b_expand_bn False\n",
            "91 block4b_expand_activation False\n",
            "92 block4b_dwconv False\n",
            "93 block4b_bn False\n",
            "94 block4b_activation False\n",
            "95 block4b_se_squeeze False\n",
            "96 block4b_se_reshape False\n",
            "97 block4b_se_reduce False\n",
            "98 block4b_se_expand False\n",
            "99 block4b_se_excite False\n",
            "100 block4b_project_conv False\n",
            "101 block4b_project_bn False\n",
            "102 block4b_drop False\n",
            "103 block4b_add False\n",
            "104 block4c_expand_conv False\n",
            "105 block4c_expand_bn False\n",
            "106 block4c_expand_activation False\n",
            "107 block4c_dwconv False\n",
            "108 block4c_bn False\n",
            "109 block4c_activation False\n",
            "110 block4c_se_squeeze False\n",
            "111 block4c_se_reshape False\n",
            "112 block4c_se_reduce False\n",
            "113 block4c_se_expand False\n",
            "114 block4c_se_excite False\n",
            "115 block4c_project_conv False\n",
            "116 block4c_project_bn False\n",
            "117 block4c_drop False\n",
            "118 block4c_add False\n",
            "119 block5a_expand_conv False\n",
            "120 block5a_expand_bn False\n",
            "121 block5a_expand_activation False\n",
            "122 block5a_dwconv False\n",
            "123 block5a_bn False\n",
            "124 block5a_activation False\n",
            "125 block5a_se_squeeze False\n",
            "126 block5a_se_reshape False\n",
            "127 block5a_se_reduce False\n",
            "128 block5a_se_expand False\n",
            "129 block5a_se_excite False\n",
            "130 block5a_project_conv False\n",
            "131 block5a_project_bn False\n",
            "132 block5b_expand_conv False\n",
            "133 block5b_expand_bn False\n",
            "134 block5b_expand_activation False\n",
            "135 block5b_dwconv False\n",
            "136 block5b_bn False\n",
            "137 block5b_activation False\n",
            "138 block5b_se_squeeze False\n",
            "139 block5b_se_reshape False\n",
            "140 block5b_se_reduce False\n",
            "141 block5b_se_expand False\n",
            "142 block5b_se_excite False\n",
            "143 block5b_project_conv False\n",
            "144 block5b_project_bn False\n",
            "145 block5b_drop False\n",
            "146 block5b_add False\n",
            "147 block5c_expand_conv False\n",
            "148 block5c_expand_bn False\n",
            "149 block5c_expand_activation False\n",
            "150 block5c_dwconv False\n",
            "151 block5c_bn False\n",
            "152 block5c_activation False\n",
            "153 block5c_se_squeeze False\n",
            "154 block5c_se_reshape False\n",
            "155 block5c_se_reduce False\n",
            "156 block5c_se_expand False\n",
            "157 block5c_se_excite False\n",
            "158 block5c_project_conv False\n",
            "159 block5c_project_bn False\n",
            "160 block5c_drop False\n",
            "161 block5c_add False\n",
            "162 block6a_expand_conv False\n",
            "163 block6a_expand_bn False\n",
            "164 block6a_expand_activation False\n",
            "165 block6a_dwconv_pad False\n",
            "166 block6a_dwconv False\n",
            "167 block6a_bn False\n",
            "168 block6a_activation False\n",
            "169 block6a_se_squeeze False\n",
            "170 block6a_se_reshape False\n",
            "171 block6a_se_reduce False\n",
            "172 block6a_se_expand False\n",
            "173 block6a_se_excite False\n",
            "174 block6a_project_conv False\n",
            "175 block6a_project_bn False\n",
            "176 block6b_expand_conv False\n",
            "177 block6b_expand_bn False\n",
            "178 block6b_expand_activation False\n",
            "179 block6b_dwconv False\n",
            "180 block6b_bn False\n",
            "181 block6b_activation False\n",
            "182 block6b_se_squeeze False\n",
            "183 block6b_se_reshape False\n",
            "184 block6b_se_reduce False\n",
            "185 block6b_se_expand False\n",
            "186 block6b_se_excite False\n",
            "187 block6b_project_conv False\n",
            "188 block6b_project_bn False\n",
            "189 block6b_drop False\n",
            "190 block6b_add False\n",
            "191 block6c_expand_conv False\n",
            "192 block6c_expand_bn False\n",
            "193 block6c_expand_activation False\n",
            "194 block6c_dwconv False\n",
            "195 block6c_bn False\n",
            "196 block6c_activation False\n",
            "197 block6c_se_squeeze False\n",
            "198 block6c_se_reshape False\n",
            "199 block6c_se_reduce False\n",
            "200 block6c_se_expand False\n",
            "201 block6c_se_excite False\n",
            "202 block6c_project_conv False\n",
            "203 block6c_project_bn False\n",
            "204 block6c_drop False\n",
            "205 block6c_add False\n",
            "206 block6d_expand_conv False\n",
            "207 block6d_expand_bn False\n",
            "208 block6d_expand_activation False\n",
            "209 block6d_dwconv False\n",
            "210 block6d_bn False\n",
            "211 block6d_activation False\n",
            "212 block6d_se_squeeze False\n",
            "213 block6d_se_reshape False\n",
            "214 block6d_se_reduce False\n",
            "215 block6d_se_expand False\n",
            "216 block6d_se_excite False\n",
            "217 block6d_project_conv False\n",
            "218 block6d_project_bn False\n",
            "219 block6d_drop False\n",
            "220 block6d_add False\n",
            "221 block7a_expand_conv False\n",
            "222 block7a_expand_bn False\n",
            "223 block7a_expand_activation False\n",
            "224 block7a_dwconv False\n",
            "225 block7a_bn False\n",
            "226 block7a_activation False\n",
            "227 block7a_se_squeeze False\n",
            "228 block7a_se_reshape False\n",
            "229 block7a_se_reduce False\n",
            "230 block7a_se_expand False\n",
            "231 block7a_se_excite False\n",
            "232 block7a_project_conv False\n",
            "233 block7a_project_bn False\n",
            "234 top_conv False\n",
            "235 top_bn False\n",
            "236 top_activation False\n"
          ]
        }
      ]
    },
    {
      "cell_type": "code",
      "metadata": {
        "id": "Yuq5JKf-6vxl"
      },
      "source": [
        "#fine_tuning the base model\n",
        "#set set base model trainability to True\n",
        "Base_model.trainable=True"
      ],
      "execution_count": 59,
      "outputs": []
    },
    {
      "cell_type": "code",
      "metadata": {
        "colab": {
          "base_uri": "https://localhost:8080/"
        },
        "id": "LP91FO_Z7wg_",
        "outputId": "8b81ace6-b3ad-4bdd-fc00-376457a2e90b"
      },
      "source": [
        "for layer_num,layers in enumerate(Base_model.layers[:-10]):\n",
        "  print(layer_num,layers.name,layers.trainable)\n",
        "  layers.trainable=False"
      ],
      "execution_count": 60,
      "outputs": [
        {
          "output_type": "stream",
          "name": "stdout",
          "text": [
            "0 input_2 True\n",
            "1 rescaling_1 True\n",
            "2 normalization_1 True\n",
            "3 stem_conv_pad True\n",
            "4 stem_conv True\n",
            "5 stem_bn True\n",
            "6 stem_activation True\n",
            "7 block1a_dwconv True\n",
            "8 block1a_bn True\n",
            "9 block1a_activation True\n",
            "10 block1a_se_squeeze True\n",
            "11 block1a_se_reshape True\n",
            "12 block1a_se_reduce True\n",
            "13 block1a_se_expand True\n",
            "14 block1a_se_excite True\n",
            "15 block1a_project_conv True\n",
            "16 block1a_project_bn True\n",
            "17 block2a_expand_conv True\n",
            "18 block2a_expand_bn True\n",
            "19 block2a_expand_activation True\n",
            "20 block2a_dwconv_pad True\n",
            "21 block2a_dwconv True\n",
            "22 block2a_bn True\n",
            "23 block2a_activation True\n",
            "24 block2a_se_squeeze True\n",
            "25 block2a_se_reshape True\n",
            "26 block2a_se_reduce True\n",
            "27 block2a_se_expand True\n",
            "28 block2a_se_excite True\n",
            "29 block2a_project_conv True\n",
            "30 block2a_project_bn True\n",
            "31 block2b_expand_conv True\n",
            "32 block2b_expand_bn True\n",
            "33 block2b_expand_activation True\n",
            "34 block2b_dwconv True\n",
            "35 block2b_bn True\n",
            "36 block2b_activation True\n",
            "37 block2b_se_squeeze True\n",
            "38 block2b_se_reshape True\n",
            "39 block2b_se_reduce True\n",
            "40 block2b_se_expand True\n",
            "41 block2b_se_excite True\n",
            "42 block2b_project_conv True\n",
            "43 block2b_project_bn True\n",
            "44 block2b_drop True\n",
            "45 block2b_add True\n",
            "46 block3a_expand_conv True\n",
            "47 block3a_expand_bn True\n",
            "48 block3a_expand_activation True\n",
            "49 block3a_dwconv_pad True\n",
            "50 block3a_dwconv True\n",
            "51 block3a_bn True\n",
            "52 block3a_activation True\n",
            "53 block3a_se_squeeze True\n",
            "54 block3a_se_reshape True\n",
            "55 block3a_se_reduce True\n",
            "56 block3a_se_expand True\n",
            "57 block3a_se_excite True\n",
            "58 block3a_project_conv True\n",
            "59 block3a_project_bn True\n",
            "60 block3b_expand_conv True\n",
            "61 block3b_expand_bn True\n",
            "62 block3b_expand_activation True\n",
            "63 block3b_dwconv True\n",
            "64 block3b_bn True\n",
            "65 block3b_activation True\n",
            "66 block3b_se_squeeze True\n",
            "67 block3b_se_reshape True\n",
            "68 block3b_se_reduce True\n",
            "69 block3b_se_expand True\n",
            "70 block3b_se_excite True\n",
            "71 block3b_project_conv True\n",
            "72 block3b_project_bn True\n",
            "73 block3b_drop True\n",
            "74 block3b_add True\n",
            "75 block4a_expand_conv True\n",
            "76 block4a_expand_bn True\n",
            "77 block4a_expand_activation True\n",
            "78 block4a_dwconv_pad True\n",
            "79 block4a_dwconv True\n",
            "80 block4a_bn True\n",
            "81 block4a_activation True\n",
            "82 block4a_se_squeeze True\n",
            "83 block4a_se_reshape True\n",
            "84 block4a_se_reduce True\n",
            "85 block4a_se_expand True\n",
            "86 block4a_se_excite True\n",
            "87 block4a_project_conv True\n",
            "88 block4a_project_bn True\n",
            "89 block4b_expand_conv True\n",
            "90 block4b_expand_bn True\n",
            "91 block4b_expand_activation True\n",
            "92 block4b_dwconv True\n",
            "93 block4b_bn True\n",
            "94 block4b_activation True\n",
            "95 block4b_se_squeeze True\n",
            "96 block4b_se_reshape True\n",
            "97 block4b_se_reduce True\n",
            "98 block4b_se_expand True\n",
            "99 block4b_se_excite True\n",
            "100 block4b_project_conv True\n",
            "101 block4b_project_bn True\n",
            "102 block4b_drop True\n",
            "103 block4b_add True\n",
            "104 block4c_expand_conv True\n",
            "105 block4c_expand_bn True\n",
            "106 block4c_expand_activation True\n",
            "107 block4c_dwconv True\n",
            "108 block4c_bn True\n",
            "109 block4c_activation True\n",
            "110 block4c_se_squeeze True\n",
            "111 block4c_se_reshape True\n",
            "112 block4c_se_reduce True\n",
            "113 block4c_se_expand True\n",
            "114 block4c_se_excite True\n",
            "115 block4c_project_conv True\n",
            "116 block4c_project_bn True\n",
            "117 block4c_drop True\n",
            "118 block4c_add True\n",
            "119 block5a_expand_conv True\n",
            "120 block5a_expand_bn True\n",
            "121 block5a_expand_activation True\n",
            "122 block5a_dwconv True\n",
            "123 block5a_bn True\n",
            "124 block5a_activation True\n",
            "125 block5a_se_squeeze True\n",
            "126 block5a_se_reshape True\n",
            "127 block5a_se_reduce True\n",
            "128 block5a_se_expand True\n",
            "129 block5a_se_excite True\n",
            "130 block5a_project_conv True\n",
            "131 block5a_project_bn True\n",
            "132 block5b_expand_conv True\n",
            "133 block5b_expand_bn True\n",
            "134 block5b_expand_activation True\n",
            "135 block5b_dwconv True\n",
            "136 block5b_bn True\n",
            "137 block5b_activation True\n",
            "138 block5b_se_squeeze True\n",
            "139 block5b_se_reshape True\n",
            "140 block5b_se_reduce True\n",
            "141 block5b_se_expand True\n",
            "142 block5b_se_excite True\n",
            "143 block5b_project_conv True\n",
            "144 block5b_project_bn True\n",
            "145 block5b_drop True\n",
            "146 block5b_add True\n",
            "147 block5c_expand_conv True\n",
            "148 block5c_expand_bn True\n",
            "149 block5c_expand_activation True\n",
            "150 block5c_dwconv True\n",
            "151 block5c_bn True\n",
            "152 block5c_activation True\n",
            "153 block5c_se_squeeze True\n",
            "154 block5c_se_reshape True\n",
            "155 block5c_se_reduce True\n",
            "156 block5c_se_expand True\n",
            "157 block5c_se_excite True\n",
            "158 block5c_project_conv True\n",
            "159 block5c_project_bn True\n",
            "160 block5c_drop True\n",
            "161 block5c_add True\n",
            "162 block6a_expand_conv True\n",
            "163 block6a_expand_bn True\n",
            "164 block6a_expand_activation True\n",
            "165 block6a_dwconv_pad True\n",
            "166 block6a_dwconv True\n",
            "167 block6a_bn True\n",
            "168 block6a_activation True\n",
            "169 block6a_se_squeeze True\n",
            "170 block6a_se_reshape True\n",
            "171 block6a_se_reduce True\n",
            "172 block6a_se_expand True\n",
            "173 block6a_se_excite True\n",
            "174 block6a_project_conv True\n",
            "175 block6a_project_bn True\n",
            "176 block6b_expand_conv True\n",
            "177 block6b_expand_bn True\n",
            "178 block6b_expand_activation True\n",
            "179 block6b_dwconv True\n",
            "180 block6b_bn True\n",
            "181 block6b_activation True\n",
            "182 block6b_se_squeeze True\n",
            "183 block6b_se_reshape True\n",
            "184 block6b_se_reduce True\n",
            "185 block6b_se_expand True\n",
            "186 block6b_se_excite True\n",
            "187 block6b_project_conv True\n",
            "188 block6b_project_bn True\n",
            "189 block6b_drop True\n",
            "190 block6b_add True\n",
            "191 block6c_expand_conv True\n",
            "192 block6c_expand_bn True\n",
            "193 block6c_expand_activation True\n",
            "194 block6c_dwconv True\n",
            "195 block6c_bn True\n",
            "196 block6c_activation True\n",
            "197 block6c_se_squeeze True\n",
            "198 block6c_se_reshape True\n",
            "199 block6c_se_reduce True\n",
            "200 block6c_se_expand True\n",
            "201 block6c_se_excite True\n",
            "202 block6c_project_conv True\n",
            "203 block6c_project_bn True\n",
            "204 block6c_drop True\n",
            "205 block6c_add True\n",
            "206 block6d_expand_conv True\n",
            "207 block6d_expand_bn True\n",
            "208 block6d_expand_activation True\n",
            "209 block6d_dwconv True\n",
            "210 block6d_bn True\n",
            "211 block6d_activation True\n",
            "212 block6d_se_squeeze True\n",
            "213 block6d_se_reshape True\n",
            "214 block6d_se_reduce True\n",
            "215 block6d_se_expand True\n",
            "216 block6d_se_excite True\n",
            "217 block6d_project_conv True\n",
            "218 block6d_project_bn True\n",
            "219 block6d_drop True\n",
            "220 block6d_add True\n",
            "221 block7a_expand_conv True\n",
            "222 block7a_expand_bn True\n",
            "223 block7a_expand_activation True\n",
            "224 block7a_dwconv True\n",
            "225 block7a_bn True\n",
            "226 block7a_activation True\n"
          ]
        }
      ]
    },
    {
      "cell_type": "code",
      "metadata": {
        "id": "W9qUAH4d8H6O"
      },
      "source": [
        "#setting trainability to false except few layers and checking for base model 4 trainability\n",
        "for layer_number,layers in enumerate(Base_model.layers[:-15]):\n",
        "  layers.trainable=False\n",
        "\n",
        "#re-compile the model(model_3)\n",
        "model_1.compile(loss=tf.keras.losses.sparse_categorical_crossentropy,\n",
        "                optimizer=tf.keras.optimizers.Adam(learning_rate=.0001),\n",
        "                metrics=['accuracy'])\n"
      ],
      "execution_count": 61,
      "outputs": []
    },
    {
      "cell_type": "code",
      "metadata": {
        "colab": {
          "base_uri": "https://localhost:8080/"
        },
        "id": "mbDuqfLYJEfF",
        "outputId": "34678dfd-b994-43c4-80a3-73bbb7d16213"
      },
      "source": [
        "\n",
        "for layer_num,layers in enumerate(Base_model.layers):\n",
        "  print(layer_num,layers.name,layers.trainable)"
      ],
      "execution_count": 62,
      "outputs": [
        {
          "output_type": "stream",
          "name": "stdout",
          "text": [
            "0 input_2 False\n",
            "1 rescaling_1 False\n",
            "2 normalization_1 False\n",
            "3 stem_conv_pad False\n",
            "4 stem_conv False\n",
            "5 stem_bn False\n",
            "6 stem_activation False\n",
            "7 block1a_dwconv False\n",
            "8 block1a_bn False\n",
            "9 block1a_activation False\n",
            "10 block1a_se_squeeze False\n",
            "11 block1a_se_reshape False\n",
            "12 block1a_se_reduce False\n",
            "13 block1a_se_expand False\n",
            "14 block1a_se_excite False\n",
            "15 block1a_project_conv False\n",
            "16 block1a_project_bn False\n",
            "17 block2a_expand_conv False\n",
            "18 block2a_expand_bn False\n",
            "19 block2a_expand_activation False\n",
            "20 block2a_dwconv_pad False\n",
            "21 block2a_dwconv False\n",
            "22 block2a_bn False\n",
            "23 block2a_activation False\n",
            "24 block2a_se_squeeze False\n",
            "25 block2a_se_reshape False\n",
            "26 block2a_se_reduce False\n",
            "27 block2a_se_expand False\n",
            "28 block2a_se_excite False\n",
            "29 block2a_project_conv False\n",
            "30 block2a_project_bn False\n",
            "31 block2b_expand_conv False\n",
            "32 block2b_expand_bn False\n",
            "33 block2b_expand_activation False\n",
            "34 block2b_dwconv False\n",
            "35 block2b_bn False\n",
            "36 block2b_activation False\n",
            "37 block2b_se_squeeze False\n",
            "38 block2b_se_reshape False\n",
            "39 block2b_se_reduce False\n",
            "40 block2b_se_expand False\n",
            "41 block2b_se_excite False\n",
            "42 block2b_project_conv False\n",
            "43 block2b_project_bn False\n",
            "44 block2b_drop False\n",
            "45 block2b_add False\n",
            "46 block3a_expand_conv False\n",
            "47 block3a_expand_bn False\n",
            "48 block3a_expand_activation False\n",
            "49 block3a_dwconv_pad False\n",
            "50 block3a_dwconv False\n",
            "51 block3a_bn False\n",
            "52 block3a_activation False\n",
            "53 block3a_se_squeeze False\n",
            "54 block3a_se_reshape False\n",
            "55 block3a_se_reduce False\n",
            "56 block3a_se_expand False\n",
            "57 block3a_se_excite False\n",
            "58 block3a_project_conv False\n",
            "59 block3a_project_bn False\n",
            "60 block3b_expand_conv False\n",
            "61 block3b_expand_bn False\n",
            "62 block3b_expand_activation False\n",
            "63 block3b_dwconv False\n",
            "64 block3b_bn False\n",
            "65 block3b_activation False\n",
            "66 block3b_se_squeeze False\n",
            "67 block3b_se_reshape False\n",
            "68 block3b_se_reduce False\n",
            "69 block3b_se_expand False\n",
            "70 block3b_se_excite False\n",
            "71 block3b_project_conv False\n",
            "72 block3b_project_bn False\n",
            "73 block3b_drop False\n",
            "74 block3b_add False\n",
            "75 block4a_expand_conv False\n",
            "76 block4a_expand_bn False\n",
            "77 block4a_expand_activation False\n",
            "78 block4a_dwconv_pad False\n",
            "79 block4a_dwconv False\n",
            "80 block4a_bn False\n",
            "81 block4a_activation False\n",
            "82 block4a_se_squeeze False\n",
            "83 block4a_se_reshape False\n",
            "84 block4a_se_reduce False\n",
            "85 block4a_se_expand False\n",
            "86 block4a_se_excite False\n",
            "87 block4a_project_conv False\n",
            "88 block4a_project_bn False\n",
            "89 block4b_expand_conv False\n",
            "90 block4b_expand_bn False\n",
            "91 block4b_expand_activation False\n",
            "92 block4b_dwconv False\n",
            "93 block4b_bn False\n",
            "94 block4b_activation False\n",
            "95 block4b_se_squeeze False\n",
            "96 block4b_se_reshape False\n",
            "97 block4b_se_reduce False\n",
            "98 block4b_se_expand False\n",
            "99 block4b_se_excite False\n",
            "100 block4b_project_conv False\n",
            "101 block4b_project_bn False\n",
            "102 block4b_drop False\n",
            "103 block4b_add False\n",
            "104 block4c_expand_conv False\n",
            "105 block4c_expand_bn False\n",
            "106 block4c_expand_activation False\n",
            "107 block4c_dwconv False\n",
            "108 block4c_bn False\n",
            "109 block4c_activation False\n",
            "110 block4c_se_squeeze False\n",
            "111 block4c_se_reshape False\n",
            "112 block4c_se_reduce False\n",
            "113 block4c_se_expand False\n",
            "114 block4c_se_excite False\n",
            "115 block4c_project_conv False\n",
            "116 block4c_project_bn False\n",
            "117 block4c_drop False\n",
            "118 block4c_add False\n",
            "119 block5a_expand_conv False\n",
            "120 block5a_expand_bn False\n",
            "121 block5a_expand_activation False\n",
            "122 block5a_dwconv False\n",
            "123 block5a_bn False\n",
            "124 block5a_activation False\n",
            "125 block5a_se_squeeze False\n",
            "126 block5a_se_reshape False\n",
            "127 block5a_se_reduce False\n",
            "128 block5a_se_expand False\n",
            "129 block5a_se_excite False\n",
            "130 block5a_project_conv False\n",
            "131 block5a_project_bn False\n",
            "132 block5b_expand_conv False\n",
            "133 block5b_expand_bn False\n",
            "134 block5b_expand_activation False\n",
            "135 block5b_dwconv False\n",
            "136 block5b_bn False\n",
            "137 block5b_activation False\n",
            "138 block5b_se_squeeze False\n",
            "139 block5b_se_reshape False\n",
            "140 block5b_se_reduce False\n",
            "141 block5b_se_expand False\n",
            "142 block5b_se_excite False\n",
            "143 block5b_project_conv False\n",
            "144 block5b_project_bn False\n",
            "145 block5b_drop False\n",
            "146 block5b_add False\n",
            "147 block5c_expand_conv False\n",
            "148 block5c_expand_bn False\n",
            "149 block5c_expand_activation False\n",
            "150 block5c_dwconv False\n",
            "151 block5c_bn False\n",
            "152 block5c_activation False\n",
            "153 block5c_se_squeeze False\n",
            "154 block5c_se_reshape False\n",
            "155 block5c_se_reduce False\n",
            "156 block5c_se_expand False\n",
            "157 block5c_se_excite False\n",
            "158 block5c_project_conv False\n",
            "159 block5c_project_bn False\n",
            "160 block5c_drop False\n",
            "161 block5c_add False\n",
            "162 block6a_expand_conv False\n",
            "163 block6a_expand_bn False\n",
            "164 block6a_expand_activation False\n",
            "165 block6a_dwconv_pad False\n",
            "166 block6a_dwconv False\n",
            "167 block6a_bn False\n",
            "168 block6a_activation False\n",
            "169 block6a_se_squeeze False\n",
            "170 block6a_se_reshape False\n",
            "171 block6a_se_reduce False\n",
            "172 block6a_se_expand False\n",
            "173 block6a_se_excite False\n",
            "174 block6a_project_conv False\n",
            "175 block6a_project_bn False\n",
            "176 block6b_expand_conv False\n",
            "177 block6b_expand_bn False\n",
            "178 block6b_expand_activation False\n",
            "179 block6b_dwconv False\n",
            "180 block6b_bn False\n",
            "181 block6b_activation False\n",
            "182 block6b_se_squeeze False\n",
            "183 block6b_se_reshape False\n",
            "184 block6b_se_reduce False\n",
            "185 block6b_se_expand False\n",
            "186 block6b_se_excite False\n",
            "187 block6b_project_conv False\n",
            "188 block6b_project_bn False\n",
            "189 block6b_drop False\n",
            "190 block6b_add False\n",
            "191 block6c_expand_conv False\n",
            "192 block6c_expand_bn False\n",
            "193 block6c_expand_activation False\n",
            "194 block6c_dwconv False\n",
            "195 block6c_bn False\n",
            "196 block6c_activation False\n",
            "197 block6c_se_squeeze False\n",
            "198 block6c_se_reshape False\n",
            "199 block6c_se_reduce False\n",
            "200 block6c_se_expand False\n",
            "201 block6c_se_excite False\n",
            "202 block6c_project_conv False\n",
            "203 block6c_project_bn False\n",
            "204 block6c_drop False\n",
            "205 block6c_add False\n",
            "206 block6d_expand_conv False\n",
            "207 block6d_expand_bn False\n",
            "208 block6d_expand_activation False\n",
            "209 block6d_dwconv False\n",
            "210 block6d_bn False\n",
            "211 block6d_activation False\n",
            "212 block6d_se_squeeze False\n",
            "213 block6d_se_reshape False\n",
            "214 block6d_se_reduce False\n",
            "215 block6d_se_expand False\n",
            "216 block6d_se_excite False\n",
            "217 block6d_project_conv False\n",
            "218 block6d_project_bn False\n",
            "219 block6d_drop False\n",
            "220 block6d_add False\n",
            "221 block7a_expand_conv False\n",
            "222 block7a_expand_bn False\n",
            "223 block7a_expand_activation False\n",
            "224 block7a_dwconv False\n",
            "225 block7a_bn False\n",
            "226 block7a_activation False\n",
            "227 block7a_se_squeeze True\n",
            "228 block7a_se_reshape True\n",
            "229 block7a_se_reduce True\n",
            "230 block7a_se_expand True\n",
            "231 block7a_se_excite True\n",
            "232 block7a_project_conv True\n",
            "233 block7a_project_bn True\n",
            "234 top_conv True\n",
            "235 top_bn True\n",
            "236 top_activation True\n"
          ]
        }
      ]
    },
    {
      "cell_type": "code",
      "metadata": {
        "id": "T6ARtE-RJQTK"
      },
      "source": [
        "initial_epoc = 5\n",
        "fine_tune_epoch = initial_epoc+45"
      ],
      "execution_count": 63,
      "outputs": []
    },
    {
      "cell_type": "code",
      "metadata": {
        "colab": {
          "base_uri": "https://localhost:8080/"
        },
        "id": "BCZ0l1jrJp23",
        "outputId": "54c46677-9cfc-4b24-bc08-27c17619d904"
      },
      "source": [
        "history_2 = model_1.fit(train_data,\n",
        "            epochs=fine_tune_epoch,\n",
        "            validation_data=test_data,\n",
        "            steps_per_epoch=len(train_data),\n",
        "            validation_steps=int(.3*len(test_data)),\n",
        "            initial_epoch=initial_epoc,\n",
        "            callbacks=[rock_paper_scissors_earlystop,model_checkpoint_rps,create_tensorboard_callback(dir_name='RPS_with EfficientnetB0',\n",
        "                                                                                                      experiment_name='rock_paper_scissors_fine_tune')])"
      ],
      "execution_count": 64,
      "outputs": [
        {
          "output_type": "stream",
          "name": "stdout",
          "text": [
            "Saving TensorBoard log files to: RPS_with EfficientnetB0/rock_paper_scissors_fine_tune/20211019-233710\n",
            "Epoch 6/50\n"
          ]
        },
        {
          "output_type": "stream",
          "name": "stderr",
          "text": [
            "/usr/local/lib/python3.7/dist-packages/keras/utils/generic_utils.py:497: CustomMaskWarning: Custom mask layers require a config and must override get_config. When loading, the custom mask layer must be passed to the custom_objects argument.\n",
            "  category=CustomMaskWarning)\n"
          ]
        },
        {
          "output_type": "stream",
          "name": "stdout",
          "text": [
            "79/79 [==============================] - 40s 390ms/step - loss: 0.0249 - accuracy: 0.9937 - val_loss: 0.1494 - val_accuracy: 0.9272\n",
            "Epoch 7/50\n",
            "79/79 [==============================] - 25s 282ms/step - loss: 0.0078 - accuracy: 0.9985 - val_loss: 0.2615 - val_accuracy: 0.8960\n",
            "Epoch 8/50\n",
            "79/79 [==============================] - 25s 288ms/step - loss: 0.6313 - accuracy: 0.9419 - val_loss: 0.4285 - val_accuracy: 0.9478\n",
            "Epoch 9/50\n",
            "79/79 [==============================] - 26s 302ms/step - loss: 0.0245 - accuracy: 0.9937 - val_loss: 0.3652 - val_accuracy: 0.9478\n",
            "Epoch 10/50\n",
            "79/79 [==============================] - 26s 296ms/step - loss: 0.0152 - accuracy: 0.9961 - val_loss: 0.6499 - val_accuracy: 0.9062\n",
            "Epoch 11/50\n",
            "79/79 [==============================] - 22s 240ms/step - loss: 0.0136 - accuracy: 0.9951 - val_loss: 0.5381 - val_accuracy: 0.9375\n"
          ]
        }
      ]
    },
    {
      "cell_type": "code",
      "metadata": {
        "colab": {
          "base_uri": "https://localhost:8080/"
        },
        "id": "srGzQeJGK8Nr",
        "outputId": "f1db02a9-155e-4205-ba02-430acea74bfa"
      },
      "source": [
        "model_1.evaluate(test_data)"
      ],
      "execution_count": 65,
      "outputs": [
        {
          "output_type": "stream",
          "name": "stdout",
          "text": [
            "12/12 [==============================] - 1s 109ms/step - loss: 0.8018 - accuracy: 0.9058\n"
          ]
        },
        {
          "output_type": "execute_result",
          "data": {
            "text/plain": [
              "[0.8017578125, 0.90576171875]"
            ]
          },
          "metadata": {},
          "execution_count": 65
        }
      ]
    },
    {
      "cell_type": "code",
      "metadata": {
        "colab": {
          "base_uri": "https://localhost:8080/"
        },
        "id": "xUm297_3UPTZ",
        "outputId": "37fb79a5-ae53-49ad-bc54-7ca13f85dc17"
      },
      "source": [
        "model_1.load_weights('RPS_Checkpoint/cp.ckpt')"
      ],
      "execution_count": 80,
      "outputs": [
        {
          "output_type": "execute_result",
          "data": {
            "text/plain": [
              "<tensorflow.python.training.tracking.util.CheckpointLoadStatus at 0x7fe4435de590>"
            ]
          },
          "metadata": {},
          "execution_count": 80
        }
      ]
    }
  ]
}